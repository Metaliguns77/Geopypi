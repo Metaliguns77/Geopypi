{
 "cells": [
  {
   "cell_type": "code",
   "execution_count": 5,
   "metadata": {},
   "outputs": [
    {
     "ename": "ModuleNotFoundError",
     "evalue": "No module named 'networkx'",
     "output_type": "error",
     "traceback": [
      "\u001b[1;31m---------------------------------------------------------------------------\u001b[0m",
      "\u001b[1;31mModuleNotFoundError\u001b[0m                       Traceback (most recent call last)",
      "Cell \u001b[1;32mIn[5], line 1\u001b[0m\n\u001b[1;32m----> 1\u001b[0m \u001b[38;5;28;01mimport\u001b[39;00m \u001b[38;5;21;01mgeopypi\u001b[39;00m\n\u001b[0;32m      2\u001b[0m \u001b[38;5;66;03m# import ipyleaflet\u001b[39;00m\n",
      "File \u001b[1;32mD:\\spring 24\\software design\\geopypi\\Geopypi\\geopypi\\__init__.py:8\u001b[0m\n\u001b[0;32m      4\u001b[0m __email__ \u001b[38;5;241m=\u001b[39m \u001b[38;5;124m\"\u001b[39m\u001b[38;5;124mkshakibu@vols.utk.edu\u001b[39m\u001b[38;5;124m\"\u001b[39m\n\u001b[0;32m      5\u001b[0m __version__ \u001b[38;5;241m=\u001b[39m \u001b[38;5;124m\"\u001b[39m\u001b[38;5;124m0.0.1\u001b[39m\u001b[38;5;124m\"\u001b[39m\n\u001b[1;32m----> 8\u001b[0m \u001b[38;5;28;01mfrom\u001b[39;00m \u001b[38;5;21;01m.\u001b[39;00m\u001b[38;5;21;01mgeopypi\u001b[39;00m \u001b[38;5;28;01mimport\u001b[39;00m Map\n",
      "File \u001b[1;32mD:\\spring 24\\software design\\geopypi\\Geopypi\\geopypi\\geopypi.py:3\u001b[0m\n\u001b[0;32m      1\u001b[0m \u001b[38;5;124;03m\"\"\"Main module.\"\"\"\u001b[39;00m\n\u001b[1;32m----> 3\u001b[0m \u001b[38;5;28;01mfrom\u001b[39;00m \u001b[38;5;21;01mnetworkx\u001b[39;00m \u001b[38;5;28;01mimport\u001b[39;00m selfloop_edges\n\u001b[0;32m      4\u001b[0m \u001b[38;5;28;01mimport\u001b[39;00m \u001b[38;5;21;01mipyleaflet\u001b[39;00m\n\u001b[0;32m      6\u001b[0m \u001b[38;5;28;01mclass\u001b[39;00m \u001b[38;5;21;01mMap\u001b[39;00m(ipyleaflet\u001b[38;5;241m.\u001b[39mMap):\n",
      "\u001b[1;31mModuleNotFoundError\u001b[0m: No module named 'networkx'"
     ]
    }
   ],
   "source": [
    "import geopypi\n",
    "# import ipyleaflet"
   ]
  },
  {
   "cell_type": "code",
   "execution_count": null,
   "metadata": {},
   "outputs": [],
   "source": []
  },
  {
   "cell_type": "code",
   "execution_count": null,
   "metadata": {},
   "outputs": [],
   "source": []
  },
  {
   "cell_type": "code",
   "execution_count": 2,
   "metadata": {},
   "outputs": [
    {
     "data": {
      "application/vnd.jupyter.widget-view+json": {
       "model_id": "82813717f1324bfb869c7ae5e6118f0c",
       "version_major": 2,
       "version_minor": 0
      },
      "text/plain": [
       "Map(center=[40, -100], controls=(ZoomControl(options=['position', 'zoom_in_text', 'zoom_in_title', 'zoom_out_t…"
      ]
     },
     "execution_count": 2,
     "metadata": {},
     "output_type": "execute_result"
    }
   ],
   "source": [
    "m = geopypi.Map()\n",
    "url = 'https://server.arcgisonline.com/ArcGIS/rest/services/World_Imagery/MapServer/tile/{z}/{y}/{x}'\n",
    "# layer = ipyleaflet.TileLayer(url=url, name='Esri Basemap', opacity=1)\n",
    "m.add_tile_layer(url=url, name='Esri Basemap', opacity=1)\n",
    "m"
   ]
  },
  {
   "cell_type": "code",
   "execution_count": 6,
   "metadata": {},
   "outputs": [
    {
     "data": {
      "application/vnd.jupyter.widget-view+json": {
       "model_id": "c187958198a044b3bd8a6cf0626a9527",
       "version_major": 2,
       "version_minor": 0
      },
      "text/plain": [
       "Box(children=(IntSlider(value=10, description='zoom', max=10, min=2),))"
      ]
     },
     "execution_count": 6,
     "metadata": {},
     "output_type": "execute_result"
    }
   ],
   "source": [
    "m.interact(zoom=(2, 10, 1))"
   ]
  },
  {
   "cell_type": "code",
   "execution_count": 1,
   "metadata": {},
   "outputs": [],
   "source": [
    "import geopypi"
   ]
  },
  {
   "cell_type": "code",
   "execution_count": 2,
   "metadata": {},
   "outputs": [
    {
     "data": {
      "application/vnd.jupyter.widget-view+json": {
       "model_id": "b89e6564a6bb4a1194fd9936a166ef49",
       "version_major": 2,
       "version_minor": 0
      },
      "text/plain": [
       "Map(center=[40, -100], controls=(ZoomControl(options=['position', 'zoom_in_text', 'zoom_in_title', 'zoom_out_t…"
      ]
     },
     "execution_count": 2,
     "metadata": {},
     "output_type": "execute_result"
    }
   ],
   "source": [
    "m = geopypi.Map()\n",
    "m.add_basemap('OpenTopoMap')\n",
    "m"
   ]
  },
  {
   "cell_type": "code",
   "execution_count": 12,
   "metadata": {},
   "outputs": [
    {
     "data": {
      "application/vnd.jupyter.widget-view+json": {
       "model_id": "63dd968abf774ca59c97625e6d59c6e0",
       "version_major": 2,
       "version_minor": 0
      },
      "text/plain": [
       "Map(center=[52.204793, 360.121558], controls=(ZoomControl(options=['position', 'zoom_in_text', 'zoom_in_title'…"
      ]
     },
     "execution_count": 12,
     "metadata": {},
     "output_type": "execute_result"
    }
   ],
   "source": [
    "from ipyleaflet import Map, basemaps\n",
    "\n",
    "center = (52.204793, 360.121558)\n",
    "\n",
    "zoom = 10\n",
    "\n",
    "m = Map(center=center, zoom=zoom, basemap=basemaps.Esri.WorldImagery)\n",
    "m"
   ]
  },
  {
   "cell_type": "code",
   "execution_count": 3,
   "metadata": {},
   "outputs": [
    {
     "data": {
      "application/vnd.jupyter.widget-view+json": {
       "model_id": "8f25f6e94440499aa423dee04855df3b",
       "version_major": 2,
       "version_minor": 0
      },
      "text/plain": [
       "Box(children=(IntSlider(value=5, description='zoom', max=10, min=5),))"
      ]
     },
     "execution_count": 3,
     "metadata": {},
     "output_type": "execute_result"
    }
   ],
   "source": [
    "m.interact(zoom=(5, 10, 1))\n"
   ]
  },
  {
   "cell_type": "code",
   "execution_count": 2,
   "metadata": {},
   "outputs": [
    {
     "data": {
      "application/vnd.jupyter.widget-view+json": {
       "model_id": "3df153570bc94568906abe407eab058b",
       "version_major": 2,
       "version_minor": 0
      },
      "text/plain": [
       "Map(center=[50.6252978589571, 0.34580993652344], controls=(ZoomControl(options=['position', 'zoom_in_text', 'z…"
      ]
     },
     "execution_count": 2,
     "metadata": {},
     "output_type": "execute_result"
    }
   ],
   "source": [
    "import os\n",
    "import json\n",
    "import random\n",
    "import requests\n",
    "\n",
    "from ipyleaflet import Map, GeoJSON\n",
    "\n",
    "if not os.path.exists('europe_110.geo.json'):\n",
    "    url = 'https://github.com/jupyter-widgets/ipyleaflet/raw/master/examples/europe_110.geo.json'\n",
    "    r = requests.get(url)\n",
    "    with open('europe_110.geo.json', 'w') as f:\n",
    "        f.write(r.content.decode(\"utf-8\"))\n",
    "\n",
    "with open('europe_110.geo.json', 'r') as f:\n",
    "    data = json.load(f)\n",
    "\n",
    "def random_color(feature):\n",
    "    return {\n",
    "        'color': 'black',\n",
    "        'fillColor': random.choice(['red', 'yellow', 'green', 'orange']),\n",
    "    }\n",
    "\n",
    "m = Map(center=(50.6252978589571, 0.34580993652344), zoom=3)\n",
    "\n",
    "geo_json = GeoJSON(\n",
    "    data=data,\n",
    "    style={\n",
    "        'opacity': 1, 'dashArray': '9', 'fillOpacity': 0.1, 'weight': 1\n",
    "    },\n",
    "    hover_style={\n",
    "        'color': 'white', 'dashArray': '0', 'fillOpacity': 0.5\n",
    "    },\n",
    "    style_callback=random_color\n",
    ")\n",
    "m.add(geo_json)\n",
    "\n",
    "m"
   ]
  },
  {
   "cell_type": "code",
   "execution_count": null,
   "metadata": {},
   "outputs": [],
   "source": [
    "from ipyleaflet import Map, ImageOverlay\n",
    "\n",
    "m = Map(center=(25, -115), zoom=4)\n",
    "\n",
    "image = ImageOverlay(\n",
    "    url=\"https://i.imgur.com/06Q1fSz.png\",\n",
    "    # url='../06Q1fSz.png',\n",
    "    bounds=((13, -130), (32, -100))\n",
    ")\n",
    "\n",
    "m.add(image);\n",
    "m"
   ]
  },
  {
   "cell_type": "code",
   "execution_count": 2,
   "metadata": {},
   "outputs": [
    {
     "data": {
      "application/vnd.jupyter.widget-view+json": {
       "model_id": "a674bdf5fdcd4158b1912190f640b253",
       "version_major": 2,
       "version_minor": 0
      },
      "text/plain": [
       "Map(center=[40, -100], controls=(ZoomControl(options=['position', 'zoom_in_text', 'zoom_in_title', 'zoom_out_t…"
      ]
     },
     "execution_count": 2,
     "metadata": {},
     "output_type": "execute_result"
    }
   ],
   "source": [
    "import geopypi\n",
    "\n",
    "m = geopypi.Map()\n",
    "m.add_basemap('OpenTopoMap')\n",
    "m"
   ]
  },
  {
   "cell_type": "code",
   "execution_count": 2,
   "metadata": {},
   "outputs": [
    {
     "data": {
      "application/vnd.jupyter.widget-view+json": {
       "model_id": "02d8ff721393451d8a58791950bb7e25",
       "version_major": 2,
       "version_minor": 0
      },
      "text/plain": [
       "Map(center=[40, -100], controls=(ZoomControl(options=['position', 'zoom_in_text', 'zoom_in_title', 'zoom_out_t…"
      ]
     },
     "execution_count": 2,
     "metadata": {},
     "output_type": "execute_result"
    }
   ],
   "source": [
    "\n",
    "import geopypi\n",
    "m = geopypi.Map()\n",
    "m.add_basemap('OpenTopoMap')\n",
    "style={'opacity': 1, 'dashArray': '9', 'fillOpacity': 0.1, 'weight': 1}\n",
    "hover_style={'color': 'white', 'dashArray': '0', 'fillOpacity': 0.5}\n",
    "\n",
    "m.add_geojson('europe_110.geo.json', style=style, hover_style=hover_style)\n",
    "m"
   ]
  },
  {
   "cell_type": "code",
   "execution_count": null,
   "metadata": {},
   "outputs": [],
   "source": []
  }
 ],
 "metadata": {
  "kernelspec": {
   "display_name": "geo",
   "language": "python",
   "name": "python3"
  },
  "language_info": {
   "codemirror_mode": {
    "name": "ipython",
    "version": 3
   },
   "file_extension": ".py",
   "mimetype": "text/x-python",
   "name": "python",
   "nbconvert_exporter": "python",
   "pygments_lexer": "ipython3",
   "version": "3.11.7"
  }
 },
 "nbformat": 4,
 "nbformat_minor": 2
}
